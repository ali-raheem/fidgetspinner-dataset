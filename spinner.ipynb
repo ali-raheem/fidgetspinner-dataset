{
 "cells": [
  {
   "cell_type": "code",
   "execution_count": 1,
   "metadata": {},
   "outputs": [
    {
     "name": "stderr",
     "output_type": "stream",
     "text": [
      "-- Attaching packages --------------------------------------- tidyverse 1.2.1 --\n",
      "v ggplot2 3.0.0     v purrr   0.2.5\n",
      "v tibble  1.4.2     v dplyr   0.7.6\n",
      "v tidyr   0.8.1     v stringr 1.3.1\n",
      "v readr   1.1.1     v forcats 0.3.0\n",
      "-- Conflicts ------------------------------------------ tidyverse_conflicts() --\n",
      "x dplyr::filter() masks stats::filter()\n",
      "x dplyr::lag()    masks stats::lag()\n"
     ]
    }
   ],
   "source": [
    "library(tidyverse)"
   ]
  },
  {
   "cell_type": "code",
   "execution_count": 2,
   "metadata": {},
   "outputs": [
    {
     "name": "stdout",
     "output_type": "stream",
     "text": [
      "structure(list(bearing = structure(c(5L, 5L, 5L, 5L, 5L, 5L, \n",
      "2L, 2L, 2L, 2L, 2L, 2L, 4L, 4L, 4L, 4L, 4L, 4L, 7L, 7L, 7L, 7L, \n",
      "7L, 7L, 1L, 1L, 1L, 1L, 1L, 1L, 6L, 6L, 6L, 6L, 6L, 6L, 3L, 3L, \n",
      "3L, 3L, 3L, 3L, 5L, 5L, 5L, 5L, 5L, 5L, 2L, 2L, 2L, 2L, 2L, 2L, \n",
      "4L, 4L, 4L, 4L, 4L, 4L, 7L, 7L, 7L, 7L, 7L, 7L, 1L, 1L, 1L, 1L, \n",
      "1L, 1L, 6L, 6L, 6L, 6L, 6L, 6L, 3L, 3L, 3L, 3L, 3L, 3L), .Label = c(\"b\", \n",
      "\"c\", \"g\", \"h\", \"m\", \"m2\", \"r\"), class = \"factor\"), top = c(1L, \n",
      "1L, 1L, 0L, 0L, 0L, 1L, 1L, 1L, 0L, 0L, 0L, 1L, 1L, 1L, 0L, 0L, \n",
      "0L, 1L, 1L, 1L, 0L, 0L, 0L, 1L, 1L, 1L, 0L, 0L, 0L, 1L, 1L, 1L, \n",
      "0L, 0L, 0L, 1L, 1L, 1L, 0L, 0L, 0L, 1L, 1L, 1L, 0L, 0L, 0L, 1L, \n",
      "1L, 1L, 0L, 0L, 0L, 1L, 1L, 1L, 0L, 0L, 0L, 1L, 1L, 1L, 0L, 0L, \n",
      "0L, 1L, 1L, 1L, 0L, 0L, 0L, 1L, 1L, 1L, 0L, 0L, 0L, 1L, 1L, 1L, \n",
      "0L, 0L, 0L), time = c(151L, 140L, 134L, 136L, 125L, 131L, 47L, \n",
      "69L, 69L, 86L, 94L, 90L, 79L, 85L, 94L, 63L, 66L, 74L, 65L, 63L, \n",
      "61L, 71L, 73L, 72L, 66L, 67L, 72L, 56L, 50L, 58L, 18L, 29L, 33L, \n",
      "22L, 33L, 29L, 5L, 5L, 4L, 7L, 7L, 6L, 158L, 164L, 161L, 156L, \n",
      "159L, 156L, 52L, 62L, 65L, 37L, 56L, 63L, 92L, 101L, 106L, 90L, \n",
      "94L, 95L, 76L, 82L, 85L, 69L, 75L, 71L, 68L, 70L, 75L, 79L, 85L, \n",
      "88L, 24L, 32L, 48L, 35L, 50L, 36L, 26L, 27L, 27L, 27L, 30L, 27L\n",
      "), spinner = structure(c(2L, 2L, 2L, 2L, 2L, 2L, 2L, 2L, 2L, \n",
      "2L, 2L, 2L, 2L, 2L, 2L, 2L, 2L, 2L, 2L, 2L, 2L, 2L, 2L, 2L, 2L, \n",
      "2L, 2L, 2L, 2L, 2L, 2L, 2L, 2L, 2L, 2L, 2L, 2L, 2L, 2L, 2L, 2L, \n",
      "2L, 1L, 1L, 1L, 1L, 1L, 1L, 1L, 1L, 1L, 1L, 1L, 1L, 1L, 1L, 1L, \n",
      "1L, 1L, 1L, 1L, 1L, 1L, 1L, 1L, 1L, 1L, 1L, 1L, 1L, 1L, 1L, 1L, \n",
      "1L, 1L, 1L, 1L, 1L, 1L, 1L, 1L, 1L, 1L, 1L), .Label = c(\"b\", \n",
      "\"r\"), class = \"factor\")), class = \"data.frame\", row.names = c(NA, \n",
      "-84L))\n"
     ]
    }
   ],
   "source": [
    "df <- read.csv(file = \"fidget.spinner.csv\", header=TRUE)\n",
    "dput(df)"
   ]
  },
  {
   "cell_type": "code",
   "execution_count": 4,
   "metadata": {},
   "outputs": [
    {
     "data": {
      "text/html": [
       "<table>\n",
       "<thead><tr><th scope=col>spinner</th><th scope=col>bearing</th><th scope=col>mean_spin_time</th></tr></thead>\n",
       "<tbody>\n",
       "\t<tr><td>b         </td><td>b         </td><td> 77.500000</td></tr>\n",
       "\t<tr><td>b         </td><td>c         </td><td> 55.833333</td></tr>\n",
       "\t<tr><td>b         </td><td>g         </td><td> 27.333333</td></tr>\n",
       "\t<tr><td>b         </td><td>h         </td><td> 96.333333</td></tr>\n",
       "\t<tr><td>b         </td><td>m         </td><td>159.000000</td></tr>\n",
       "\t<tr><td>b         </td><td>m2        </td><td> 37.500000</td></tr>\n",
       "\t<tr><td>b         </td><td>r         </td><td> 76.333333</td></tr>\n",
       "\t<tr><td>r         </td><td>b         </td><td> 61.500000</td></tr>\n",
       "\t<tr><td>r         </td><td>c         </td><td> 75.833333</td></tr>\n",
       "\t<tr><td>r         </td><td>g         </td><td>  5.666667</td></tr>\n",
       "\t<tr><td>r         </td><td>h         </td><td> 76.833333</td></tr>\n",
       "\t<tr><td>r         </td><td>m         </td><td>136.166667</td></tr>\n",
       "\t<tr><td>r         </td><td>m2        </td><td> 27.333333</td></tr>\n",
       "\t<tr><td>r         </td><td>r         </td><td> 67.500000</td></tr>\n",
       "</tbody>\n",
       "</table>\n"
      ],
      "text/latex": [
       "\\begin{tabular}{r|lll}\n",
       " spinner & bearing & mean\\_spin\\_time\\\\\n",
       "\\hline\n",
       "\t b          & b          &  77.500000\\\\\n",
       "\t b          & c          &  55.833333\\\\\n",
       "\t b          & g          &  27.333333\\\\\n",
       "\t b          & h          &  96.333333\\\\\n",
       "\t b          & m          & 159.000000\\\\\n",
       "\t b          & m2         &  37.500000\\\\\n",
       "\t b          & r          &  76.333333\\\\\n",
       "\t r          & b          &  61.500000\\\\\n",
       "\t r          & c          &  75.833333\\\\\n",
       "\t r          & g          &   5.666667\\\\\n",
       "\t r          & h          &  76.833333\\\\\n",
       "\t r          & m          & 136.166667\\\\\n",
       "\t r          & m2         &  27.333333\\\\\n",
       "\t r          & r          &  67.500000\\\\\n",
       "\\end{tabular}\n"
      ],
      "text/markdown": [
       "\n",
       "spinner | bearing | mean_spin_time | \n",
       "|---|---|---|---|---|---|---|---|---|---|---|---|---|---|\n",
       "| b          | b          |  77.500000 | \n",
       "| b          | c          |  55.833333 | \n",
       "| b          | g          |  27.333333 | \n",
       "| b          | h          |  96.333333 | \n",
       "| b          | m          | 159.000000 | \n",
       "| b          | m2         |  37.500000 | \n",
       "| b          | r          |  76.333333 | \n",
       "| r          | b          |  61.500000 | \n",
       "| r          | c          |  75.833333 | \n",
       "| r          | g          |   5.666667 | \n",
       "| r          | h          |  76.833333 | \n",
       "| r          | m          | 136.166667 | \n",
       "| r          | m2         |  27.333333 | \n",
       "| r          | r          |  67.500000 | \n",
       "\n",
       "\n"
      ],
      "text/plain": [
       "   spinner bearing mean_spin_time\n",
       "1  b       b        77.500000    \n",
       "2  b       c        55.833333    \n",
       "3  b       g        27.333333    \n",
       "4  b       h        96.333333    \n",
       "5  b       m       159.000000    \n",
       "6  b       m2       37.500000    \n",
       "7  b       r        76.333333    \n",
       "8  r       b        61.500000    \n",
       "9  r       c        75.833333    \n",
       "10 r       g         5.666667    \n",
       "11 r       h        76.833333    \n",
       "12 r       m       136.166667    \n",
       "13 r       m2       27.333333    \n",
       "14 r       r        67.500000    "
      ]
     },
     "metadata": {},
     "output_type": "display_data"
    }
   ],
   "source": [
    "df %>%\n",
    "    group_by(spinner, bearing) %>%\n",
    "    summarize(mean_spin_time = mean(time))"
   ]
  },
  {
   "cell_type": "code",
   "execution_count": 5,
   "metadata": {},
   "outputs": [
    {
     "data": {},
     "metadata": {},
     "output_type": "display_data"
    },
    {
     "data": {
      "image/png": "[encoded data removed]",
      "text/plain": [
       "plot without title"
      ]
     },
     "metadata": {},
     "output_type": "display_data",
     "source": "R display func"
    }
   ],
   "source": [
    "spinner.labels <- c(r = \"Red spinner\", b = \"Black spinner\")\n",
    "ggplot(df, aes(reorder(bearing, time), time)) + \n",
    "    geom_boxplot() + \n",
    "    facet_grid(spinner~., labeller = labeller(spinner = spinner.labels)) +\n",
    "    labs(x = \"Bearing type\", \n",
    "         y = \"Spin time (seconds)\", \n",
    "         title = \"Fidget spinner spin times\",\n",
    "         subtitle = \"Comparison of bearing types\") + \n",
    "    scale_x_discrete(breaks=c(\"c\", \"m\", \"h\", \"r\", \"b\", \"m2\", \"g\"), \n",
    "                     labels=c(\"Ceramic\", \"Metal\", \"Hybrid\", \"Red Sealed\", \"Black Sealed\", \"Metal 2\", \"Green Sealed\")) +\n",
    "    #geom_point(aes(colour=factor(top)), size=0.8) +\n",
    "    theme(legend.position = \"none\")"
   ]
  },
  {
   "cell_type": "code",
   "execution_count": 83,
   "metadata": {},
   "outputs": [
    {
     "name": "stderr",
     "output_type": "stream",
     "text": [
      "Saving 6.67 x 6.67 in image\n"
     ]
    }
   ],
   "source": [
    "ggsave(\"boxplot.png\")"
   ]
  },
  {
   "cell_type": "code",
   "execution_count": 6,
   "metadata": {},
   "outputs": [
    {
     "name": "stderr",
     "output_type": "stream",
     "text": [
      "No summary function supplied, defaulting to `mean_se()\n",
      "No summary function supplied, defaulting to `mean_se()\n"
     ]
    },
    {
     "data": {},
     "metadata": {},
     "output_type": "display_data"
    },
    {
     "data": {
      "image/png": "[encoded data removed]",
      "text/plain": [
       "plot without title"
      ]
     },
     "metadata": {},
     "output_type": "display_data",
     "source": "R display func"
    }
   ],
   "source": [
    "ggplot(df, aes(reorder(bearing, time), time, fill=factor(top))) + \n",
    "    geom_bar(position = \"dodge\", stat=\"summary\") + \n",
    "    facet_grid(spinner~., labeller = labeller(spinner = spinner.labels)) +    scale_x_discrete(breaks=c(\"c\", \"m\", \"h\", \"r\", \"b\", \"m2\", \"g\"), \n",
    "                     labels=c(\"Ceramic\", \"Metal\", \"Hybrid\", \"Red Sealed\", \"Black Sealed\", \"Metal 2\", \"Green Sealed\")) +\n",
    "    scale_fill_discrete(labels=c(\"Up\", \"Down\")) +\n",
    "    labs(x = \"Bearing type\",\n",
    "         y = \"Spin time (seconds)\",\n",
    "         fill = \"Orientation\", \n",
    "         title = \"Fidget spinner spin times\",\n",
    "         subtitle = \"Comparison of bearing types\") + \n",
    "    theme(legend.position = \"bottom\")"
   ]
  },
  {
   "cell_type": "code",
   "execution_count": 85,
   "metadata": {},
   "outputs": [
    {
     "name": "stderr",
     "output_type": "stream",
     "text": [
      "Saving 6.67 x 6.67 in image\n",
      "No summary function supplied, defaulting to `mean_se()\n",
      "No summary function supplied, defaulting to `mean_se()\n"
     ]
    }
   ],
   "source": [
    "ggsave(\"grouped.barplot.png\")"
   ]
  },
  {
   "cell_type": "code",
   "execution_count": 7,
   "metadata": {},
   "outputs": [
    {
     "name": "stderr",
     "output_type": "stream",
     "text": [
      "No summary function supplied, defaulting to `mean_se()\n",
      "No summary function supplied, defaulting to `mean_se()\n"
     ]
    },
    {
     "data": {},
     "metadata": {},
     "output_type": "display_data"
    },
    {
     "data": {
      "image/png": "[encoded data removed]",
      "text/plain": [
       "plot without title"
      ]
     },
     "metadata": {},
     "output_type": "display_data",
     "source": "R display func"
    }
   ],
   "source": [
    "ggplot(df, aes(reorder(bearing, time), time)) + \n",
    "    geom_bar(stat=\"summary\") + \n",
    "    facet_grid(spinner~., labeller = labeller(spinner = spinner.labels)) +\n",
    "    scale_x_discrete(breaks=c(\"c\", \"m\", \"h\", \"r\", \"b\", \"m2\", \"g\"), \n",
    "                     labels=c(\"Ceramic\", \"Metal\", \"Hybrid\", \"Red Sealed\", \"Black Sealed\", \"Metal 2\", \"Green Sealed\")) +\n",
    "    scale_y_continuous(breaks=seq(0, 150, 10)) +\n",
    "    labs(x = \"Bearing type\",\n",
    "         y = \"Spin time (seconds)\", \n",
    "         title = \"Fidget spinner spin times\",\n",
    "         subtitle = \"Comparison of bearing types\")"
   ]
  },
  {
   "cell_type": "code",
   "execution_count": 87,
   "metadata": {},
   "outputs": [
    {
     "name": "stderr",
     "output_type": "stream",
     "text": [
      "Saving 6.67 x 6.67 in image\n",
      "No summary function supplied, defaulting to `mean_se()\n",
      "No summary function supplied, defaulting to `mean_se()\n"
     ]
    }
   ],
   "source": [
    "ggsave(\"barplot.png\")"
   ]
  },
  {
   "cell_type": "code",
   "execution_count": 15,
   "metadata": {},
   "outputs": [
    {
     "data": {},
     "metadata": {},
     "output_type": "display_data"
    },
    {
     "data": {
      "image/png": "[encoded data removed]",
      "text/plain": [
       "plot without title"
      ]
     },
     "metadata": {},
     "output_type": "display_data",
     "source": "R display func"
    }
   ],
   "source": [
    "ggplot(df, aes(reorder(bearing, time), time, fill=factor(top))) + \n",
    "    geom_boxplot() + \n",
    "    labs(x = \"Bearing type\", \n",
    "         y = \"Spin time (seconds)\", \n",
    "         title = \"Fidget spinner spin times\",\n",
    "         subtitle = \"Comparison of bearing types\",\n",
    "         fill = \"Orientation\") +\n",
    "    facet_grid(spinner~.) +\n",
    "    scale_y_continuous(breaks=seq(0,175, 10)) +\n",
    "    scale_x_discrete(breaks=c(\"c\", \"m\", \"h\", \"r\", \"b\", \"m2\", \"g\"), \n",
    "                     labels=c(\"Ceramic\", \"Metal\", \"Hybrid\", \"Red Sealed\", \"Black Sealed\", \"Metal 2\", \"Green Sealed\")) +\n",
    "    #geom_point(aes(colour=factor(top)), size=0.8) +\n",
    "    theme(legend.position = \"bottom\")"
   ]
  },
  {
   "cell_type": "code",
   "execution_count": 16,
   "metadata": {},
   "outputs": [
    {
     "name": "stderr",
     "output_type": "stream",
     "text": [
      "Warning message in wilcox.test.default(df.m.1$time, df.m.2$time):\n",
      "\"cannot compute exact p-value with ties\""
     ]
    },
    {
     "data": {
      "text/plain": [
       "\n",
       "\tWilcoxon rank sum test with continuity correction\n",
       "\n",
       "data:  df.m.1$time and df.m.2$time\n",
       "W = 13, p-value = 0.4704\n",
       "alternative hypothesis: true location shift is not equal to 0\n"
      ]
     },
     "metadata": {},
     "output_type": "display_data"
    }
   ],
   "source": [
    "df.m <- df %>%\n",
    "    filter(bearing == \"c\") %>%\n",
    "    select(time, top)\n",
    "df.m.1 <- df.m %>% \n",
    "    filter(top == 1) %>%\n",
    "    select(time)\n",
    "df.m.2 <- df.m %>%\n",
    "    filter(top == 0) %>%\n",
    "    select(time) \n",
    "wilcox.test(df.m.1$time, df.m.2$time)"
   ]
  },
  {
   "cell_type": "code",
   "execution_count": null,
   "metadata": {},
   "outputs": [],
   "source": []
  }
 ],
 "metadata": {
  "kernelspec": {
   "display_name": "R",
   "language": "R",
   "name": "ir"
  },
  "language_info": {
   "codemirror_mode": "r",
   "file_extension": ".r",
   "mimetype": "text/x-r-source",
   "name": "R",
   "pygments_lexer": "r",
   "version": "3.5.1"
  }
 },
 "nbformat": 4,
 "nbformat_minor": 2
}
